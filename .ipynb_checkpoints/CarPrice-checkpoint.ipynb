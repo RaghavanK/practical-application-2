{
 "cells": [
  {
   "cell_type": "code",
   "execution_count": null,
   "id": "18879739-5fb2-4059-ad34-eeecb8ac6a67",
   "metadata": {},
   "outputs": [],
   "source": [
    "import pandas as pd\n",
    "import seaborn as sns\n",
    "import plotly.express as px\n",
    "from matplotlib import pyplot as plt\n",
    "from sklearn.metrics import mean_squared_error\n",
    "from sklearn.model_selection import train_test_split\n",
    "from sklearn.model_selection import GridSearchCV\n",
    "from sklearn.linear_model import Ridge\n",
    "from sklearn.linear_model import Lasso\n",
    "from sklearn.linear_model import LinearRegression\n",
    "\n",
    "import warnings\n",
    "warnings.filterwarnings('ignore')"
   ]
  },
  {
   "cell_type": "code",
   "execution_count": null,
   "id": "41db918d-1449-43f1-8abb-c7de7a97b0a9",
   "metadata": {},
   "outputs": [],
   "source": [
    "cars_data = pd.read_csv('data/vehicles.csv')"
   ]
  },
  {
   "cell_type": "code",
   "execution_count": null,
   "id": "d6a3ad0a-eefe-4433-9a1d-943a39617f3b",
   "metadata": {},
   "outputs": [],
   "source": [
    "cars_data.info()"
   ]
  },
  {
   "cell_type": "code",
   "execution_count": null,
   "id": "fbb9ba26-6225-48ac-a5c3-e5ce5e62e315",
   "metadata": {},
   "outputs": [],
   "source": [
    "cars_data.head()"
   ]
  },
  {
   "cell_type": "code",
   "execution_count": null,
   "id": "0981d1f1-7152-4b96-86cc-7a08d4a9cfa0",
   "metadata": {},
   "outputs": [],
   "source": [
    "# Drop rows which has more than half entries as NaN\n",
    "cars_data_cleaned = cars_data.dropna(thresh=8)"
   ]
  },
  {
   "cell_type": "code",
   "execution_count": null,
   "id": "084a7989-4455-4b33-9c11-217a63c28ab9",
   "metadata": {},
   "outputs": [],
   "source": [
    "cars_data_cleaned.head()"
   ]
  },
  {
   "cell_type": "code",
   "execution_count": null,
   "id": "d01f2ca1-42d4-427a-b46b-6159532bafd6",
   "metadata": {},
   "outputs": [],
   "source": [
    "cars_data_cleaned.set_index('id')"
   ]
  },
  {
   "cell_type": "code",
   "execution_count": null,
   "id": "7f5fe7dd-fc16-4b91-bcf4-eae7273958c7",
   "metadata": {},
   "outputs": [],
   "source": []
  },
  {
   "cell_type": "code",
   "execution_count": null,
   "id": "f65e8a46-58b4-4127-a8ab-1133d96f7fd8",
   "metadata": {},
   "outputs": [],
   "source": [
    "# Plot number of cars sold per manufacturer\n",
    "cars_by_manufacturer_type = pd.DataFrame()\n",
    "cars_by_manufacturer_type['count'] = pd.DataFrame(cars_data_cleaned.groupby(['manufacturer', 'type'])['type'].count())\n",
    "cars_by_manufacturer_type = cars_by_manufacturer_type.reset_index()\n",
    "\n",
    "plt.figure(figsize=(18,10))\n",
    "ax = sns.histplot(cars_by_manufacturer_type, x='manufacturer',weights = 'count',hue = 'type', multiple='stack')\n",
    "plt.xticks(rotation=90) \n",
    "plt.xlabel('Manufacturer',fontsize=16)\n",
    "plt.ylabel('Number of cars sold',fontsize=16)\n",
    "plt.title('Total number of cars sold per each manufacturer',fontsize=16)\n",
    "plt.show()"
   ]
  },
  {
   "cell_type": "code",
   "execution_count": null,
   "id": "d6b4f13f-59fd-45f8-a88a-618288c8cbe2",
   "metadata": {},
   "outputs": [],
   "source": [
    "# Plot number of cars sold per manufacturer per state\n",
    "cars_by_manufacturer_state = pd.DataFrame()\n",
    "cars_by_manufacturer_state['count'] = pd.DataFrame(cars_data_cleaned.groupby(['manufacturer', 'state'])['manufacturer'].count())\n",
    "cars_by_manufacturer_state = cars_by_manufacturer_state.reset_index()\n",
    "\n",
    "plt.figure(figsize=(25,20))\n",
    "ax = sns.histplot(cars_by_manufacturer_state, x='state',weights = 'count',hue = 'manufacturer', multiple='stack')\n",
    "plt.xticks(rotation=90) \n",
    "plt.xlabel('Manufacturer',fontsize=16)\n",
    "plt.ylabel('Number of cars sold',fontsize=16)\n",
    "plt.title('Total number of cars sold in each state per each manufacturer',fontsize=16)\n",
    "plt.show()"
   ]
  },
  {
   "cell_type": "code",
   "execution_count": null,
   "id": "e615721d-ddd3-4272-8586-d2d4cbe029c5",
   "metadata": {},
   "outputs": [],
   "source": []
  },
  {
   "cell_type": "code",
   "execution_count": null,
   "id": "ed5baf93-bd4a-483d-bb83-4ec9106acd76",
   "metadata": {},
   "outputs": [],
   "source": [
    "# Create linear regression model\n",
    "odo_price_data = cars_data[['odometer','price']].dropna()\n",
    "odometer       = odo_price_data[['odometer']]\n",
    "price          = odo_price_data['price']\n",
    "\n",
    "X_train, X_test, y_train, y_test = train_test_split(odometer, price, test_size=0.3)\n",
    "\n",
    "lin_model = linear_model.LinearRegression(fit_intercept=False)\n",
    "lin_model.fit(X_train, y_train)\n",
    "lin_model.coef_\n"
   ]
  },
  {
   "cell_type": "code",
   "execution_count": null,
   "id": "49a22feb-42e9-47ce-8f54-3fc6d6d4e759",
   "metadata": {},
   "outputs": [],
   "source": []
  },
  {
   "cell_type": "code",
   "execution_count": null,
   "id": "1d69a60f-85b4-4a1c-b6b7-d516c8492745",
   "metadata": {},
   "outputs": [],
   "source": [
    "# Create linear regression model using multiple features\n",
    "odo_year_price_data = cars_data[['odometer', 'year','price']].dropna()\n",
    "features = odo_year_price_data[['odometer', 'year']]\n",
    "price = odo_year_price_data['price']\n",
    "\n",
    "X_train, X_test, y_train, y_test = train_test_split(features, price, test_size=0.3)\n",
    "\n",
    "lin_model_2d = linear_model.LinearRegression(fit_intercept=False)\n",
    "lin_model_2d.fit(X_train, y_train)\n",
    "\n",
    "lin_model_2d.coef_\n"
   ]
  },
  {
   "cell_type": "code",
   "execution_count": null,
   "id": "f1d1bada-e16a-4a60-a9fb-1ce356c06828",
   "metadata": {},
   "outputs": [],
   "source": []
  },
  {
   "cell_type": "code",
   "execution_count": null,
   "id": "be473905-545e-4176-bf2f-da56845790ca",
   "metadata": {},
   "outputs": [],
   "source": [
    "odo_year_price_data['prediction_2d'] = lin_model_2d.predict(odo_year_price_data[['odometer','year']])\n",
    "odo_year_price_data['prediction']    = lin_model.predict(odo_year_price_data[['odometer']])\n",
    "odo_year_price_data"
   ]
  },
  {
   "cell_type": "code",
   "execution_count": null,
   "id": "aa78b74c-3222-4d66-92a9-5b42169dc6b8",
   "metadata": {},
   "outputs": [],
   "source": []
  },
  {
   "cell_type": "code",
   "execution_count": 124,
   "id": "94a24005-0e4d-4459-8644-85de5b2a0818",
   "metadata": {},
   "outputs": [
    {
     "data": {
      "text/plain": [
       "150344144177648.34"
      ]
     },
     "execution_count": 124,
     "metadata": {},
     "output_type": "execute_result"
    }
   ],
   "source": [
    "mean_squared_error(odo_year_price_data['prediction'],odo_year_price_data['price'])"
   ]
  },
  {
   "cell_type": "code",
   "execution_count": 126,
   "id": "bf52a1c4-1cd9-4471-abbf-d8c19c533108",
   "metadata": {},
   "outputs": [
    {
     "data": {
      "text/plain": [
       "150344318037804.34"
      ]
     },
     "execution_count": 126,
     "metadata": {},
     "output_type": "execute_result"
    }
   ],
   "source": [
    "mean_squared_error(odo_year_price_data['prediction_2d'],odo_year_price_data['price'])"
   ]
  },
  {
   "cell_type": "code",
   "execution_count": null,
   "id": "12cb61c8-ec58-4213-a91d-8aba30e5b902",
   "metadata": {},
   "outputs": [],
   "source": []
  },
  {
   "cell_type": "code",
   "execution_count": 129,
   "id": "472dd3e4-5960-431d-886c-76e425054bcb",
   "metadata": {},
   "outputs": [
    {
     "data": {
      "text/plain": [
       "array([[-1.91189072e+18, -1.91189072e+18, -1.91189072e+18,\n",
       "        -1.91189072e+18, -1.91189072e+18, -1.91189072e+18,\n",
       "         1.65111984e+18,  1.65111984e+18,  1.65111984e+18,\n",
       "         1.65111984e+18,  1.65111984e+18,  1.65111984e+18,\n",
       "         1.65111984e+18,  1.65111984e+18,  1.65111984e+18,\n",
       "         1.65111984e+18,  1.65111984e+18,  1.65111984e+18,\n",
       "         2.60770886e+17,  2.60770886e+17,  2.60770886e+17,\n",
       "         2.60770886e+17,  2.60770886e+17,  2.60770886e+17,\n",
       "         2.60770886e+17,  2.60770886e+17,  2.60770886e+17,\n",
       "         2.60770886e+17,  2.60770886e+17,  2.60770886e+17,\n",
       "         2.60770886e+17,  2.60770886e+17,  2.60770886e+17,\n",
       "         2.60770886e+17,  2.60770886e+17,  2.60770886e+17,\n",
       "         2.60770886e+17,  2.60770886e+17,  2.60770886e+17,\n",
       "         2.60770886e+17,  2.60770886e+17,  2.60770886e+17,\n",
       "         2.60770886e+17,  2.60770886e+17,  2.60770886e+17,\n",
       "         2.60770886e+17,  2.60770886e+17,  2.60770886e+17,\n",
       "         2.60770886e+17,  2.60770886e+17,  2.60770886e+17,\n",
       "         2.60770886e+17,  2.60770886e+17,  2.60770886e+17,\n",
       "         2.60770886e+17,  2.60770886e+17,  2.60770886e+17,\n",
       "         2.60770886e+17,  2.60770886e+17,  2.60770886e+17]])"
      ]
     },
     "execution_count": 129,
     "metadata": {},
     "output_type": "execute_result"
    }
   ],
   "source": [
    "#Calculate linear regression\n",
    "cars_features_data = cars_data[['manufacturer', 'condition','paint_color','price']].dropna()\n",
    "\n",
    "features_data = cars_features_data[['manufacturer', 'condition','paint_color']]\n",
    "price_data = cars_features_data[['price']]\n",
    "\n",
    "condition_dummies = pd.get_dummies(features_data['condition'], dtype=int)\n",
    "paint_color_dummies = pd.get_dummies(features_data['paint_color'], dtype=int)\n",
    "manufacturer_dummies = pd.get_dummies(features_data['manufacturer'], dtype=int)\n",
    "\n",
    "data_w_dummies = pd.concat([features_data, condition_dummies, paint_color_dummies, manufacturer_dummies],axis=1)\n",
    "data_w_dummies = data_w_dummies.drop(['manufacturer', 'condition', 'paint_color'], axis=1)\n",
    "\n",
    "lin_reg = linear_model.LinearRegression(fit_intercept=False)\n",
    "lin_reg.fit(data_w_dummies, price_data)\n",
    "\n",
    "lin_reg.coef_"
   ]
  },
  {
   "cell_type": "code",
   "execution_count": null,
   "id": "ec1f2f65-2f65-4bbb-b0ec-80c10d72a4fc",
   "metadata": {},
   "outputs": [],
   "source": []
  },
  {
   "cell_type": "code",
   "execution_count": 132,
   "id": "2b4c22ad-3eba-4850-9335-d854eaef795b",
   "metadata": {},
   "outputs": [
    {
     "name": "stdout",
     "output_type": "stream",
     "text": [
      "164594219327819.12\n"
     ]
    }
   ],
   "source": [
    "# Linear Regression \n",
    "\n",
    "cars_data_cleaned = cars_data[['manufacturer', 'state','paint_color','price','odometer']].dropna()\n",
    "\n",
    "cars_data_cleaned = pd.get_dummies(cars_data_cleaned,columns=['state'],dtype=int, drop_first=True)\n",
    "cars_data_cleaned = pd.get_dummies(cars_data_cleaned,columns=['paint_color'],dtype=int, drop_first=True)\n",
    "cars_data_cleaned = pd.get_dummies(cars_data_cleaned,columns=['manufacturer'],dtype=int, drop_first=True)\n",
    "\n",
    "lin_reg = LinearRegression()\n",
    "\n",
    "X = cars_data_cleaned.drop('price', axis=1)\n",
    "y = cars_data_cleaned['price']\n",
    "\n",
    "X_train, X_test, y_train, y_test = train_test_split(X, y, test_size=0.3)\n",
    "\n",
    "lin_reg.fit(X_train,y_train)\n",
    "\n",
    "y_pred = lin_reg.predict(X_test)\n",
    "\n",
    "mse = mean_squared_error(y_test, y_pred)\n",
    "\n",
    "print(mse)"
   ]
  },
  {
   "cell_type": "code",
   "execution_count": null,
   "id": "3f5bc118-cf4d-4750-acbb-5724bfa1e39f",
   "metadata": {},
   "outputs": [],
   "source": []
  },
  {
   "cell_type": "code",
   "execution_count": 134,
   "id": "f3ed08fd-4ec8-4162-94d9-edf85aa34a40",
   "metadata": {},
   "outputs": [
    {
     "name": "stdout",
     "output_type": "stream",
     "text": [
      "Ridge Coefs: [ 5.0000000e-02 -1.9318730e+04 -1.3130820e+04 -1.0692490e+04\n",
      "  3.2556500e+04 -1.5832780e+04 -1.5227910e+04 -1.8045600e+04\n",
      " -9.3673700e+03 -1.3935940e+04 -1.3023660e+04 -1.7059390e+04\n",
      " -1.2572540e+04  1.7539230e+04 -8.3713200e+03  4.1263857e+05\n",
      " -9.6795000e+03 -1.6606330e+04 -1.5117830e+04 -1.7352740e+04\n",
      " -1.2182090e+04 -2.1969600e+04  1.6166630e+04 -8.8299500e+03\n",
      " -5.8107000e+03 -1.6069380e+04 -1.0649780e+04  3.5357300e+03\n",
      " -6.4264100e+03 -5.7728100e+03 -2.6099660e+04 -1.2375900e+04\n",
      " -1.5954650e+04 -5.3681800e+03 -7.6366400e+03 -6.0221800e+03\n",
      "  3.0216390e+04  6.0431044e+05 -1.5413090e+04 -2.1006620e+04\n",
      " -1.1213360e+04 -6.0875900e+03 -7.5009000e+03 -9.8834600e+03\n",
      " -6.5863300e+03 -1.7957060e+04 -2.8111490e+04 -3.9785500e+03\n",
      " -8.2346800e+03 -3.3639300e+03 -1.4053100e+04 -4.6026750e+04\n",
      " -5.0984020e+04 -5.0426330e+04 -6.2434860e+04 -4.4435300e+04\n",
      " -2.7985500e+04 -4.1881900e+04 -3.8611880e+04  7.4141930e+04\n",
      " -1.8636790e+04 -3.2413560e+04  3.9982060e+04  9.4364440e+04\n",
      "  5.9781300e+03  7.3582700e+03  5.2099150e+04  1.1387220e+04\n",
      "  1.6004730e+04 -1.1002660e+04 -2.6610900e+04  3.9906000e+03\n",
      "  1.0385948e+05  4.8246700e+03  3.8728170e+04  2.8379360e+04\n",
      "  6.5834800e+03 -6.8920000e+03 -7.7557400e+03  1.1071170e+04\n",
      "  2.2390550e+04  6.5483400e+03 -9.3921700e+03  2.4464080e+04\n",
      " -8.4116000e+02  2.0023750e+04 -1.0254200e+03  4.0570900e+03\n",
      "  1.0109600e+03  9.9085000e+03  9.3916300e+03  0.0000000e+00\n",
      "  1.5955980e+04 -6.6302100e+03  2.0164600e+03  8.8245100e+03\n",
      "  1.7442770e+04 -1.0609400e+03 -6.2710500e+03  3.9265970e+04\n",
      "  2.1256595e+05 -6.1651300e+03  7.9839625e+05]\n"
     ]
    }
   ],
   "source": [
    "# Ridge model analysis\n",
    "ridge_model = Ridge().fit(X_train, y_train)\n",
    "ridge_model_coefs = ridge_model.coef_\n",
    "print(f'Ridge Coefs: {np.round(ridge_model_coefs, 2)}')"
   ]
  },
  {
   "cell_type": "code",
   "execution_count": null,
   "id": "61ac6010-44b8-459a-9b16-f307015b9c80",
   "metadata": {},
   "outputs": [],
   "source": []
  },
  {
   "cell_type": "code",
   "execution_count": 136,
   "id": "e06d876b-1b3c-4044-92a1-19c83bac3b77",
   "metadata": {},
   "outputs": [
    {
     "name": "stdout",
     "output_type": "stream",
     "text": [
      "Lasso Coefs: [ 5.0000000e-02 -1.5546050e+04 -9.3052600e+03 -6.9375300e+03\n",
      "  3.6259680e+04 -1.2095800e+04 -1.1428660e+04 -1.4222920e+04\n",
      " -5.2586800e+03 -1.0209880e+04 -9.2632500e+03 -1.3211340e+04\n",
      " -8.8086200e+03  2.1209570e+04 -4.6227500e+03  4.1641765e+05\n",
      " -5.9075100e+03 -1.2821190e+04 -1.1270370e+04 -1.3596710e+04\n",
      " -8.4013400e+03 -1.8125310e+04  1.9851550e+04 -5.0693300e+03\n",
      " -2.0041500e+03 -1.2007740e+04 -6.8488800e+03  7.2142000e+03\n",
      " -1.8704700e+03 -1.6565700e+03 -2.2275270e+04 -8.6289700e+03\n",
      " -1.2153240e+04 -1.5315800e+03 -3.9091400e+03 -2.2978100e+03\n",
      "  3.3876270e+04  6.0808037e+05 -1.1686480e+04 -1.7131580e+04\n",
      " -7.4385900e+03 -2.0606200e+03 -3.7577400e+03 -6.1536000e+03\n",
      " -2.5749700e+03 -1.4216490e+04 -2.4283220e+04 -2.3439000e+02\n",
      " -4.4891800e+03  0.0000000e+00 -9.7141800e+03 -4.5984400e+04\n",
      " -5.0904480e+04 -5.0336010e+04 -6.2382400e+04 -4.4388040e+04\n",
      " -2.7824810e+04 -4.1464260e+04 -3.8555700e+04  7.4167580e+04\n",
      " -1.8599380e+04 -3.2241040e+04  3.9012020e+04  8.3336640e+04\n",
      "  5.2905400e+03  6.7082200e+03  5.1390070e+04  1.0683900e+04\n",
      "  1.5368000e+04 -1.1560140e+04 -1.9130100e+04  3.3389700e+03\n",
      "  1.0087977e+05  3.6507300e+03  3.8080410e+04  2.7710080e+04\n",
      "  3.8762100e+03 -7.5198400e+03 -8.3639600e+03  1.0335220e+04\n",
      "  2.1583550e+04  5.9048700e+03 -9.9540100e+03  0.0000000e+00\n",
      " -1.4327100e+03  1.9286650e+04 -1.5812100e+03  3.3875500e+03\n",
      "  0.0000000e+00  9.1595000e+03  8.6036100e+03  0.0000000e+00\n",
      "  1.5299010e+04 -7.0917600e+03  1.0556400e+03  8.1715300e+03\n",
      "  1.6663690e+04 -1.3342400e+03 -6.8534400e+03  3.8267660e+04\n",
      "  2.1192170e+05 -6.7593400e+03  7.9813445e+05]\n"
     ]
    }
   ],
   "source": [
    "# Lasso model analysis\n",
    "lasso_model = Lasso().fit(X_train, y_train)\n",
    "lasso_model_coefs = lasso_model.coef_\n",
    "print(f'Lasso Coefs: {np.round(lasso_model_coefs, 2)}')"
   ]
  },
  {
   "cell_type": "code",
   "execution_count": 138,
   "id": "70598aa9-6a92-4a34-9ab8-697e57d01ec8",
   "metadata": {},
   "outputs": [
    {
     "name": "stdout",
     "output_type": "stream",
     "text": [
      "For alpha = 100 we have the following coefficients:\n"
     ]
    },
    {
     "data": {
      "text/plain": [
       "[('odometer', 0.0472345192711959),\n",
       " ('state_al', -27076.101375929924),\n",
       " ('state_ar', -20573.406072543577),\n",
       " ('state_az', -18911.882845492284),\n",
       " ('state_ca', 23736.327695788408),\n",
       " ('state_co', -24128.316008776717),\n",
       " ('state_ct', -22723.27745417539),\n",
       " ('state_dc', -25124.038320495787),\n",
       " ('state_de', -14641.963755888633),\n",
       " ('state_fl', -22408.251384244737),\n",
       " ('state_ga', -21183.43500025163),\n",
       " ('state_hi', -24073.77061295754),\n",
       " ('state_ia', -20751.434434846306),\n",
       " ('state_id', 8629.45253470233),\n",
       " ('state_il', -16860.126467931255),\n",
       " ('state_in', 390717.2263602931),\n",
       " ('state_ks', -17855.48170066508),\n",
       " ('state_ky', -24005.345644403144),\n",
       " ('state_la', -22073.097136772223),\n",
       " ('state_ma', -25141.266462632877),\n",
       " ('state_md', -20039.22006782609),\n",
       " ('state_me', -27973.437168803946),\n",
       " ('state_mi', 7179.420129450618),\n",
       " ('state_mn', -17025.620831114033),\n",
       " ('state_mo', -14005.738092325664),\n",
       " ('state_ms', -20946.89873488864),\n",
       " ('state_mt', -18353.04821722078),\n",
       " ('state_nc', -5115.266778729187),\n",
       " ('state_nd', -10265.008878757655),\n",
       " ('state_ne', -12030.506545631393),\n",
       " ('state_nh', -32282.61621041101),\n",
       " ('state_nj', -20757.781784234012),\n",
       " ('state_nm', -23426.607969578366),\n",
       " ('state_nv', -13314.737253158377),\n",
       " ('state_ny', -16143.316822576082),\n",
       " ('state_oh', -14711.710593673282),\n",
       " ('state_ok', 20791.028503350164),\n",
       " ('state_or', 586036.4583181856),\n",
       " ('state_pa', -23551.92846576945),\n",
       " ('state_ri', -26972.85902499624),\n",
       " ('state_sc', -19297.687995918764),\n",
       " ('state_sd', -12553.135999695049),\n",
       " ('state_tn', -15999.549939447956),\n",
       " ('state_tx', -18368.83857624556),\n",
       " ('state_ut', -13321.968265008938),\n",
       " ('state_va', -26347.704185672235),\n",
       " ('state_vt', -33405.38552078355),\n",
       " ('state_wa', -12433.23171228664),\n",
       " ('state_wi', -16504.895503518102),\n",
       " ('state_wv', -9951.606808279455),\n",
       " ('state_wy', -17030.364108022364),\n",
       " ('paint_color_blue', -44836.461237431366),\n",
       " ('paint_color_brown', -48963.13216193954),\n",
       " ('paint_color_custom', -48533.03667233375),\n",
       " ('paint_color_green', -60163.85690306707),\n",
       " ('paint_color_grey', -43450.1549151915),\n",
       " ('paint_color_orange', -25358.100622500384),\n",
       " ('paint_color_purple', -33316.26661273446),\n",
       " ('paint_color_red', -37523.95680857071),\n",
       " ('paint_color_silver', 74618.36875530859),\n",
       " ('paint_color_white', -17843.184511479423),\n",
       " ('paint_color_yellow', -29318.489510064876),\n",
       " ('manufacturer_alfa-romeo', 16565.88534624786),\n",
       " ('manufacturer_aston-martin', 7567.774311980741),\n",
       " ('manufacturer_audi', -13551.083196621277),\n",
       " ('manufacturer_bmw', -12439.200860664389),\n",
       " ('manufacturer_buick', 30852.87673679632),\n",
       " ('manufacturer_cadillac', -8354.251835996358),\n",
       " ('manufacturer_chevrolet', -4199.218667958957),\n",
       " ('manufacturer_chrysler', -29927.221018731976),\n",
       " ('manufacturer_datsun', -8277.51498405939),\n",
       " ('manufacturer_dodge', -15854.945706147604),\n",
       " ('manufacturer_ferrari', 25166.25573327924),\n",
       " ('manufacturer_fiat', -11903.425335724842),\n",
       " ('manufacturer_ford', 18616.156911149377),\n",
       " ('manufacturer_gmc', 8233.057435555613),\n",
       " ('manufacturer_harley-davidson', -6383.812570359106),\n",
       " ('manufacturer_honda', -26766.3966229547),\n",
       " ('manufacturer_hyundai', -27247.223003790885),\n",
       " ('manufacturer_infiniti', -8450.505023609503),\n",
       " ('manufacturer_jaguar', 2207.4224031864496),\n",
       " ('manufacturer_jeep', -13518.577369093668),\n",
       " ('manufacturer_kia', -28760.784134338173),\n",
       " ('manufacturer_land rover', 422.96953778552347),\n",
       " ('manufacturer_lexus', -20354.684020077642),\n",
       " ('manufacturer_lincoln', -46.23069744108105),\n",
       " ('manufacturer_mazda', -20249.87028415148),\n",
       " ('manufacturer_mercedes-benz', -15644.252487896225),\n",
       " ('manufacturer_mercury', -16424.482132449233),\n",
       " ('manufacturer_mini', -9732.457423673672),\n",
       " ('manufacturer_mitsubishi', -10266.158649343668),\n",
       " ('manufacturer_morgan', 0.0),\n",
       " ('manufacturer_nissan', -4235.365248486004),\n",
       " ('manufacturer_pontiac', -24400.206615229563),\n",
       " ('manufacturer_porsche', -15364.583504611095),\n",
       " ('manufacturer_ram', -11010.859048416118),\n",
       " ('manufacturer_rover', -2413.8554907090484),\n",
       " ('manufacturer_saturn', -17647.862262751656),\n",
       " ('manufacturer_subaru', -25972.879238172485),\n",
       " ('manufacturer_tesla', 15785.063349639051),\n",
       " ('manufacturer_toyota', 191398.4677648363),\n",
       " ('manufacturer_volkswagen', -25641.524117519843),\n",
       " ('manufacturer_volvo', 731329.0126789203)]"
      ]
     },
     "execution_count": 138,
     "metadata": {},
     "output_type": "execute_result"
    }
   ],
   "source": [
    "# Exploring alphas\n",
    "alphas = [0.001, 1.0, 10.0, 100.0]\n",
    "\n",
    "coef_list = []\n",
    "\n",
    "for a in alphas:\n",
    "    ridge = Ridge(alpha = a)\n",
    "    ridge.fit(X_train, y_train)\n",
    "    coef_list.append(list(ridge.coef_))\n",
    "\n",
    "len(coef_list)\n",
    "print('For alpha = 100 we have the following coefficients:')\n",
    "list(zip(X_train.columns, coef_list[-1]))"
   ]
  },
  {
   "cell_type": "code",
   "execution_count": 140,
   "id": "05365644-9931-47fb-b353-59f4cd9fe2b8",
   "metadata": {},
   "outputs": [
    {
     "name": "stdout",
     "output_type": "stream",
     "text": [
      "Best value for lambda :  {'alpha': 100}\n",
      "Best score for cost function:  -108742796156120.9\n"
     ]
    }
   ],
   "source": [
    "# Hyper parameter evaluation with Ridge regression\n",
    "\n",
    "alphas = {'alpha':[1e-2,1,5,10,20,30,50,100]}\n",
    "gridSearch = GridSearchCV(ridge_model, alphas, scoring='neg_mean_squared_error', cv=5)\n",
    "gridSearch.fit(X,y)\n",
    "print(\"Best value for lambda : \",gridSearch.best_params_)\n",
    "print(\"Best score for cost function: \", gridSearch.best_score_)"
   ]
  },
  {
   "cell_type": "code",
   "execution_count": null,
   "id": "fa2f6106-7469-46f3-b1d1-f351de58da32",
   "metadata": {},
   "outputs": [],
   "source": []
  },
  {
   "cell_type": "code",
   "execution_count": 142,
   "id": "6056fb75-3e1b-4b49-8f31-3f23b3e789ab",
   "metadata": {},
   "outputs": [
    {
     "data": {
      "text/plain": [
       "array([ 48297.61405455, 140051.38990531,  63922.204642  , ...,\n",
       "       -15970.74554295, 208930.08661701, -58688.02635351])"
      ]
     },
     "execution_count": 142,
     "metadata": {},
     "output_type": "execute_result"
    }
   ],
   "source": [
    "# Calculate ridge prediction\n",
    "ridge_predict = ridge_model.predict(X_test)\n",
    "ridge_predict"
   ]
  },
  {
   "cell_type": "code",
   "execution_count": 125,
   "id": "84c5adbc-4a76-4937-8f5c-02c769bd30d6",
   "metadata": {},
   "outputs": [
    {
     "data": {
      "text/plain": [
       "<Axes: ylabel='Density'>"
      ]
     },
     "execution_count": 125,
     "metadata": {},
     "output_type": "execute_result"
    },
    {
     "data": {
      "image/png": "[encoded data removed]",
      "text/plain": [
       "<Figure size 640x480 with 1 Axes>"
      ]
     },
     "metadata": {},
     "output_type": "display_data"
    }
   ],
   "source": [
    "sns.distplot(ridge_predict)"
   ]
  },
  {
   "cell_type": "code",
   "execution_count": null,
   "id": "a2b54447-e885-4c46-8e68-6a2a5e6cfbac",
   "metadata": {},
   "outputs": [],
   "source": []
  }
 ],
 "metadata": {
  "kernelspec": {
   "display_name": "Python 3 (ipykernel)",
   "language": "python",
   "name": "python3"
  },
  "language_info": {
   "codemirror_mode": {
    "name": "ipython",
    "version": 3
   },
   "file_extension": ".py",
   "mimetype": "text/x-python",
   "name": "python",
   "nbconvert_exporter": "python",
   "pygments_lexer": "ipython3",
   "version": "3.12.4"
  }
 },
 "nbformat": 4,
 "nbformat_minor": 5
}
