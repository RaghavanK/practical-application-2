{
 "cells": [
  {
   "cell_type": "code",
   "execution_count": null,
   "id": "18879739-5fb2-4059-ad34-eeecb8ac6a67",
   "metadata": {},
   "outputs": [],
   "source": [
    "import numpy as np\n",
    "import pandas as pd\n",
    "import seaborn as sns\n",
    "import plotly.express as px\n",
    "from matplotlib import pyplot as plt\n",
    "from sklearn import linear_model\n",
    "from sklearn.metrics import mean_squared_error\n",
    "from sklearn.model_selection import train_test_split\n",
    "from sklearn.model_selection import GridSearchCV\n",
    "from sklearn.linear_model import Ridge\n",
    "from sklearn.linear_model import Lasso\n",
    "from sklearn.linear_model import LinearRegression\n",
    "\n",
    "import warnings\n",
    "warnings.filterwarnings('ignore')"
   ]
  },
  {
   "cell_type": "code",
   "execution_count": null,
   "id": "41db918d-1449-43f1-8abb-c7de7a97b0a9",
   "metadata": {},
   "outputs": [],
   "source": [
    "cars_data = pd.read_csv('data/vehicles.csv')"
   ]
  },
  {
   "cell_type": "code",
   "execution_count": null,
   "id": "d6a3ad0a-eefe-4433-9a1d-943a39617f3b",
   "metadata": {},
   "outputs": [],
   "source": [
    "cars_data.info()"
   ]
  },
  {
   "cell_type": "code",
   "execution_count": null,
   "id": "fbb9ba26-6225-48ac-a5c3-e5ce5e62e315",
   "metadata": {},
   "outputs": [],
   "source": [
    "cars_data.head()"
   ]
  },
  {
   "cell_type": "code",
   "execution_count": null,
   "id": "0981d1f1-7152-4b96-86cc-7a08d4a9cfa0",
   "metadata": {},
   "outputs": [],
   "source": [
    "# Drop rows which has more than half entries as NaN\n",
    "cars_data_cleaned = cars_data.dropna(thresh=8)"
   ]
  },
  {
   "cell_type": "code",
   "execution_count": null,
   "id": "084a7989-4455-4b33-9c11-217a63c28ab9",
   "metadata": {},
   "outputs": [],
   "source": [
    "cars_data_cleaned.head()"
   ]
  },
  {
   "cell_type": "code",
   "execution_count": null,
   "id": "d01f2ca1-42d4-427a-b46b-6159532bafd6",
   "metadata": {},
   "outputs": [],
   "source": [
    "cars_data_cleaned.set_index('id')"
   ]
  },
  {
   "cell_type": "code",
   "execution_count": null,
   "id": "7f5fe7dd-fc16-4b91-bcf4-eae7273958c7",
   "metadata": {},
   "outputs": [],
   "source": []
  },
  {
   "cell_type": "code",
   "execution_count": null,
   "id": "f65e8a46-58b4-4127-a8ab-1133d96f7fd8",
   "metadata": {},
   "outputs": [],
   "source": [
    "# Plot number of cars sold per manufacturer\n",
    "cars_by_manufacturer_type = pd.DataFrame()\n",
    "cars_by_manufacturer_type['count'] = pd.DataFrame(cars_data_cleaned.groupby(['manufacturer', 'type'])['type'].count())\n",
    "cars_by_manufacturer_type = cars_by_manufacturer_type.reset_index()\n",
    "\n",
    "plt.figure(figsize=(18,10))\n",
    "ax = sns.histplot(cars_by_manufacturer_type, x='manufacturer',weights = 'count',hue = 'type', multiple='stack')\n",
    "plt.xticks(rotation=90) \n",
    "plt.xlabel('Manufacturer',fontsize=16)\n",
    "plt.ylabel('Number of cars sold',fontsize=16)\n",
    "plt.title('Total number of cars sold per each manufacturer',fontsize=16)\n",
    "plt.show()"
   ]
  },
  {
   "cell_type": "code",
   "execution_count": null,
   "id": "d6b4f13f-59fd-45f8-a88a-618288c8cbe2",
   "metadata": {},
   "outputs": [],
   "source": [
    "# Plot number of cars sold per manufacturer per state\n",
    "cars_by_manufacturer_state = pd.DataFrame()\n",
    "cars_by_manufacturer_state['count'] = pd.DataFrame(cars_data_cleaned.groupby(['manufacturer', 'state'])['manufacturer'].count())\n",
    "cars_by_manufacturer_state = cars_by_manufacturer_state.reset_index()\n",
    "\n",
    "plt.figure(figsize=(18,14))\n",
    "ax = sns.histplot(cars_by_manufacturer_state, x='state',weights = 'count',hue = 'manufacturer', multiple='stack')\n",
    "plt.xticks(rotation=90) \n",
    "plt.xlabel('Manufacturer',fontsize=16)\n",
    "plt.ylabel('Number of cars sold',fontsize=16)\n",
    "plt.title('Total number of cars sold in each state per each manufacturer',fontsize=16)\n",
    "plt.show()"
   ]
  },
  {
   "cell_type": "code",
   "execution_count": null,
   "id": "ed5baf93-bd4a-483d-bb83-4ec9106acd76",
   "metadata": {},
   "outputs": [],
   "source": [
    "# Create linear regression model\n",
    "odo_price_data = cars_data[['odometer','price']].dropna()\n",
    "odometer       = odo_price_data[['odometer']]\n",
    "price          = odo_price_data['price']\n",
    "lin_model = linear_model.LinearRegression(fit_intercept=False)\n",
    "lin_model.fit(odometer, price)\n",
    "lin_model.coef_"
   ]
  },
  {
   "cell_type": "code",
   "execution_count": null,
   "id": "49a22feb-42e9-47ce-8f54-3fc6d6d4e759",
   "metadata": {},
   "outputs": [],
   "source": []
  },
  {
   "cell_type": "code",
   "execution_count": null,
   "id": "1d69a60f-85b4-4a1c-b6b7-d516c8492745",
   "metadata": {},
   "outputs": [],
   "source": [
    "# Create linear regression model using multiple features\n",
    "odo_year_price_data = cars_data[['odometer', 'year','price']].dropna()\n",
    "features = odo_year_price_data[['odometer', 'year']]\n",
    "price = odo_year_price_data['price']\n",
    "lin_model_2d = linear_model.LinearRegression(fit_intercept=False)\n",
    "lin_model_2d.fit(features, price)\n",
    "lin_model_2d.coef_"
   ]
  },
  {
   "cell_type": "code",
   "execution_count": null,
   "id": "f1d1bada-e16a-4a60-a9fb-1ce356c06828",
   "metadata": {},
   "outputs": [],
   "source": []
  },
  {
   "cell_type": "code",
   "execution_count": null,
   "id": "be473905-545e-4176-bf2f-da56845790ca",
   "metadata": {},
   "outputs": [],
   "source": [
    "odo_year_price_data['prediction']    = lin_model.predict(odo_year_price_data[['odometer']])\n",
    "odo_year_price_data['prediction_2d'] = lin_model_2d.predict(odo_year_price_data[['odometer','year']])\n",
    "odo_year_price_data"
   ]
  },
  {
   "cell_type": "code",
   "execution_count": null,
   "id": "94a24005-0e4d-4459-8644-85de5b2a0818",
   "metadata": {},
   "outputs": [],
   "source": [
    "mean_squared_error(odo_year_price_data['prediction'],odo_year_price_data['price'])"
   ]
  },
  {
   "cell_type": "code",
   "execution_count": null,
   "id": "bf52a1c4-1cd9-4471-abbf-d8c19c533108",
   "metadata": {},
   "outputs": [],
   "source": [
    "mean_squared_error(odo_year_price_data['prediction_2d'],odo_year_price_data['price'])"
   ]
  },
  {
   "cell_type": "code",
   "execution_count": null,
   "id": "12cb61c8-ec58-4213-a91d-8aba30e5b902",
   "metadata": {},
   "outputs": [],
   "source": []
  },
  {
   "cell_type": "code",
   "execution_count": null,
   "id": "472dd3e4-5960-431d-886c-76e425054bcb",
   "metadata": {},
   "outputs": [],
   "source": [
    "#Calculate linear regression\n",
    "cars_features_data = cars_data[['manufacturer', 'condition','paint_color','price']].dropna()\n",
    "\n",
    "features_data = cars_features_data[['manufacturer', 'condition','paint_color']]\n",
    "price_data = cars_features_data[['price']]\n",
    "\n",
    "condition_dummies = pd.get_dummies(features_data['condition'], dtype=int)\n",
    "paint_color_dummies = pd.get_dummies(features_data['paint_color'], dtype=int)\n",
    "manufacturer_dummies = pd.get_dummies(features_data['manufacturer'], dtype=int)\n",
    "\n",
    "data_w_dummies = pd.concat([features_data, condition_dummies, paint_color_dummies, manufacturer_dummies],axis=1)\n",
    "data_w_dummies = data_w_dummies.drop(['manufacturer', 'condition', 'paint_color'], axis=1)\n",
    "\n",
    "lin_reg = linear_model.LinearRegression(fit_intercept=False)\n",
    "lin_reg.fit(data_w_dummies, price_data)\n",
    "\n",
    "lin_reg.coef_"
   ]
  },
  {
   "cell_type": "code",
   "execution_count": null,
   "id": "ec1f2f65-2f65-4bbb-b0ec-80c10d72a4fc",
   "metadata": {},
   "outputs": [],
   "source": []
  },
  {
   "cell_type": "code",
   "execution_count": null,
   "id": "2b4c22ad-3eba-4850-9335-d854eaef795b",
   "metadata": {},
   "outputs": [],
   "source": [
    "# Linear Regression \n",
    "\n",
    "cars_data_cleaned = cars_data[['manufacturer', 'state','paint_color','price','odometer']].dropna()\n",
    "\n",
    "# cars_data_cleaned[\"state_num\"] = labelencoder.fit_transform(cars_data_cleaned[\"state\"])\n",
    "# cars_data_cleaned[\"state_num\"] = cars_data_cleaned[\"state_num\"].astype('category')\n",
    "# print(cars_data_cleaned)\n",
    "cars_data_cleaned = pd.get_dummies(cars_data_cleaned,columns=['state'],dtype=int, drop_first=True)\n",
    "\n",
    "# cars_data_cleaned[\"color_num\"] = labelencoder.fit_transform(cars_data_cleaned[\"paint_color\"])\n",
    "# cars_data_cleaned[\"color_num\"] = cars_data_cleaned[\"color_num\"].astype('category')\n",
    "\n",
    "cars_data_cleaned = pd.get_dummies(cars_data_cleaned,columns=['paint_color'],dtype=int, drop_first=True)\n",
    "\n",
    "# cars_data_cleaned[\"manufacturer_num\"] = labelencoder.fit_transform(cars_data_cleaned[\"manufacturer\"])\n",
    "# cars_data_cleaned[\"manufacturer_num\"] = cars_data_cleaned[\"manufacturer_num\"].astype('category')\n",
    "\n",
    "cars_data_cleaned = pd.get_dummies(cars_data_cleaned,columns=['manufacturer'],dtype=int, drop_first=True)\n",
    "\n",
    "lin_reg = LinearRegression()\n",
    "\n",
    "X = cars_data_cleaned.drop('price', axis=1)\n",
    "y = cars_data_cleaned['price']\n",
    "\n",
    "X_train, X_test, y_train, y_test = train_test_split(X, y, test_size=0.3)\n",
    "\n",
    "lin_reg.fit(X_train,y_train)\n",
    "\n",
    "y_pred = lin_reg.predict(X_test)\n",
    "\n",
    "mse = mean_squared_error(y_test, y_pred)\n",
    "\n",
    "print(mse)\n"
   ]
  },
  {
   "cell_type": "code",
   "execution_count": null,
   "id": "3f5bc118-cf4d-4750-acbb-5724bfa1e39f",
   "metadata": {},
   "outputs": [],
   "source": []
  },
  {
   "cell_type": "code",
   "execution_count": null,
   "id": "f3ed08fd-4ec8-4162-94d9-edf85aa34a40",
   "metadata": {},
   "outputs": [],
   "source": [
    "# Ridge model analysis\n",
    "ridge_model = Ridge().fit(X_train, y_train)\n",
    "ridge_model_coefs = ridge_model.coef_\n",
    "print(f'Ridge Coefs: {np.round(ridge_model_coefs, 2)}')"
   ]
  },
  {
   "cell_type": "code",
   "execution_count": null,
   "id": "61ac6010-44b8-459a-9b16-f307015b9c80",
   "metadata": {},
   "outputs": [],
   "source": []
  },
  {
   "cell_type": "code",
   "execution_count": null,
   "id": "e06d876b-1b3c-4044-92a1-19c83bac3b77",
   "metadata": {},
   "outputs": [],
   "source": [
    "# Lasso model analysis\n",
    "lasso_model = Lasso().fit(X_train, y_train)\n",
    "lasso_model_coefs = lasso_model.coef_\n",
    "print(f'Lasso Coefs: {np.round(lasso_model_coefs, 2)}')"
   ]
  },
  {
   "cell_type": "code",
   "execution_count": null,
   "id": "70598aa9-6a92-4a34-9ab8-697e57d01ec8",
   "metadata": {},
   "outputs": [],
   "source": [
    "# Exploring alphas\n",
    "alphas = [0.001, 1.0, 10.0, 100.0]\n",
    "\n",
    "coef_list = []\n",
    "\n",
    "# YOUR CODE HERE\n",
    "\n",
    "for a in alphas:\n",
    "    ridge = Ridge(alpha = a)\n",
    "    ridge.fit(X_train, y_train)\n",
    "    coef_list.append(list(ridge.coef_))\n",
    "\n",
    "# Answer check\n",
    "len(coef_list)\n",
    "print('For alpha = 100 we have the following coefficients:')\n",
    "list(zip(X_train.columns, coef_list[-1]))"
   ]
  },
  {
   "cell_type": "code",
   "execution_count": null,
   "id": "05365644-9931-47fb-b353-59f4cd9fe2b8",
   "metadata": {},
   "outputs": [],
   "source": [
    "# Hyper parameter evaluation with Ridge regression\n",
    "\n",
    "alphas = {'alpha':[1e-2,1,5,10,20,30,50,100]}\n",
    "gridSearch = GridSearchCV(ridge_model, alphas, scoring='neg_mean_squared_error', cv=5)\n",
    "gridSearch.fit(X,y)\n",
    "print(\"Best value for lambda : \",gridSearch.best_params_)\n",
    "print(\"Best score for cost function: \", gridSearch.best_score_)"
   ]
  },
  {
   "cell_type": "code",
   "execution_count": null,
   "id": "fa2f6106-7469-46f3-b1d1-f351de58da32",
   "metadata": {},
   "outputs": [],
   "source": [
    "# Hyper parameter evaluation with Lasso regression\n",
    "# alphas = {'alpha':[1e-2,1,5,10,20,30,50,100]}\n",
    "# gridSearch = GridSearchCV(lasso_model, alphas, scoring='neg_mean_squared_error', cv=5)\n",
    "# gridSearch.fit(X,y)\n",
    "# print(\"Best value for lambda : \",gridSearch.best_params_)\n",
    "# print(\"Best score for cost function: \", gridSearch.best_score_)"
   ]
  },
  {
   "cell_type": "code",
   "execution_count": null,
   "id": "6355234e-315a-40e7-8e77-53bbe48edb54",
   "metadata": {},
   "outputs": [],
   "source": []
  },
  {
   "cell_type": "code",
   "execution_count": null,
   "id": "6056fb75-3e1b-4b49-8f31-3f23b3e789ab",
   "metadata": {},
   "outputs": [],
   "source": [
    "# Calculate ridge prediction\n",
    "ridge_predict = ridge_model.predict(X_test)\n",
    "ridge_predict"
   ]
  },
  {
   "cell_type": "code",
   "execution_count": null,
   "id": "84c5adbc-4a76-4937-8f5c-02c769bd30d6",
   "metadata": {},
   "outputs": [],
   "source": [
    "sns.distplot(ridge_predict)"
   ]
  },
  {
   "cell_type": "code",
   "execution_count": null,
   "id": "a2b54447-e885-4c46-8e68-6a2a5e6cfbac",
   "metadata": {},
   "outputs": [],
   "source": []
  }
 ],
 "metadata": {
  "kernelspec": {
   "display_name": "Python 3 (ipykernel)",
   "language": "python",
   "name": "python3"
  },
  "language_info": {
   "codemirror_mode": {
    "name": "ipython",
    "version": 3
   },
   "file_extension": ".py",
   "mimetype": "text/x-python",
   "name": "python",
   "nbconvert_exporter": "python",
   "pygments_lexer": "ipython3",
   "version": "3.12.4"
  }
 },
 "nbformat": 4,
 "nbformat_minor": 5
}
